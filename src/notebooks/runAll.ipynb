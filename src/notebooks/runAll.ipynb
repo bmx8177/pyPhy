{
 "cells": [
  {
   "cell_type": "code",
   "execution_count": 1,
   "metadata": {
    "collapsed": true
   },
   "outputs": [],
   "source": [
    "import numpy as np\n",
    "import os\n",
    "import skimage\n",
    "import utils as imgTrans\n",
    "import fileIO as importFile\n",
    "import matplotlib.pyplot as plt\n",
    "import mlUtils as mL\n",
    "import re"
   ]
  },
  {
   "cell_type": "markdown",
   "metadata": {},
   "source": [
    "curPath = '../../data/processed/'\n",
    "\n",
    "for dir in os.listdir(curPath):\n",
    "    print(dir)\n",
    "    maxList = np.zeros((1,32*32))\n",
    "    for file in os.listdir(curPath+dir):\n",
    "        a = np.load(curPath+dir+'/'+file)\n",
    "        b = np.reshape(a,(1,32*32))\n",
    "        tmpList = np.maximum(maxList,b)\n",
    "        maxList = tmpList\n",
    "    tmp = np.reshape(maxList,(32,32))\n",
    "    #plt.imshow(tmp)\n",
    "    #plt.show()\n",
    "    np.save('../../data/newProcessedAll/'+dir,tmp)\n",
    "    for i in range(0,10):\n",
    "        hFlipRand = np.random.rand(1) < .5\n",
    "        vFlipRand = np.random.rand(1) < .5\n",
    "    \n",
    "        degree = np.random.randint(0,360)\n",
    "        \n",
    "        tmp2 = skimage.transform.rotate(tmp,degree)\n",
    "\n",
    "        if hFlipRand:\n",
    "            tmp2= np.flip(tmp2,axis=1)\n",
    "        if vFlipRand:\n",
    "            tmp2= np.flip(tmp2,axis=0)\n",
    "        np.save('../../data/newProcessedAll/'+dir[:-4]+'_____'+str(i)+'.tif',tmp2)        "
   ]
  },
  {
   "cell_type": "code",
   "execution_count": 8,
   "metadata": {},
   "outputs": [
    {
     "name": "stdout",
     "output_type": "stream",
     "text": [
      "{'kuruna': 28, 'ampelocalamus': 21, 'sinobambusa': 8, 'thamnocalamus': 20, 'shibataea': 20, 'pleioblastus': 20, 'phyllostachys': 10, 'chimonocalamus': 32, 'bergbambos': 31, 'arundinaria': 18, 'chimonobambusa': 21, 'guadua': 31, 'dinochloa': 38, 'macluorchloa': 8, 'otatea': 40, 'racemo': 3, 'chusquea': 2, 'arthrostylidium': 3, 'bambusa': 8, 'hickelia': 7, 'davidsea': 8, 'racemobambos': 4, 'merostachys': 7, 'meloncanna': 14, 'nastus': 23, 'buerguesiochloa': 33, 'diandrolyra': 53, 'eremites': 37, 'lithacne': 44, 'sucrea': 42, 'raddia': 36, 'olyra': 24, 'pariana': 44, 'leersia': 4, 'oryza': 29, 'zizaniopsis': 8, 'zizania': 20, 'humbertochloa': 26, 'phyllorachis': 24, 'ehrharta': 28, 'streptogyna': 16}\n",
      "{'kuruna': 0, 'ampelocalamus': 1, 'sinobambusa': 2, 'thamnocalamus': 3, 'shibataea': 4, 'pleioblastus': 5, 'phyllostachys': 6, 'chimonocalamus': 7, 'bergbambos': 8, 'arundinaria': 9, 'chimonobambusa': 10, 'guadua': 11, 'dinochloa': 12, 'macluorchloa': 13, 'otatea': 14, 'racemo': 15, 'chusquea': 16, 'arthrostylidium': 17, 'bambusa': 18, 'hickelia': 19, 'davidsea': 20, 'racemobambos': 21, 'merostachys': 22, 'meloncanna': 23, 'nastus': 24, 'buerguesiochloa': 25, 'diandrolyra': 26, 'eremites': 27, 'lithacne': 28, 'sucrea': 29, 'raddia': 30, 'olyra': 31, 'pariana': 32, 'leersia': 33, 'oryza': 34, 'zizaniopsis': 35, 'zizania': 36, 'humbertochloa': 37, 'phyllorachis': 38, 'ehrharta': 39, 'streptogyna': 40}\n"
     ]
    }
   ],
   "source": [
    "fToGDic = {}\n",
    "gDic = {}\n",
    "with open('../../image_stack_to_genus.tsv') as file1:\n",
    "    line1=file1.readline().strip()\n",
    "    while line1:\n",
    "        line1_sp = line1.split('\\t')\n",
    "        fToGDic[line1_sp[0]] = line1_sp[1]\n",
    "        \n",
    "        if line1_sp[1] not in gDic:\n",
    "            gDic[line1_sp[1]] = 1\n",
    "        else:\n",
    "            gDic[line1_sp[1]] = gDic[line1_sp[1]] + 1\n",
    "        line1=file1.readline().strip()\n",
    "        \n",
    "oneHotDic = {}\n",
    "cnt = 0   \n",
    "for key in gDic:\n",
    "    oneHotDic[key] = cnt\n",
    "    cnt = cnt + 1\n",
    "numLabel = cnt\n",
    "print(gDic)\n",
    "print(oneHotDic)"
   ]
  },
  {
   "cell_type": "code",
   "execution_count": 11,
   "metadata": {},
   "outputs": [],
   "source": [
    "curPath = '../../data/newProcessedAll//'\n",
    "\n",
    "numLayers = 1\n",
    "numCols = 32\n",
    "numRows = 32\n",
    "tX = np.empty((numLayers*numCols*numRows))\n",
    "tY = np.empty((1,numLabel))\n",
    "vX = np.empty((numLayers*numCols*numRows))\n",
    "vY = np.empty((1,numLabel))\n",
    "testX = np.empty((numLayers*numCols*numRows))\n",
    "testY = np.empty((1,numLabel))\n",
    "\n",
    "for file in os.listdir(curPath):\n",
    "    a = np.load(curPath+file)\n",
    "    tmp = np.reshape(a,(1,32*32))\n",
    "    \n",
    "    tFile = file[:-4]\n",
    "    t2File = re.sub('_____\\d','',tFile)\n",
    "\n",
    "    species = fToGDic[t2File]\n",
    "\n",
    "    randNum = np.random.rand((1))\n",
    "    \n",
    "    if randNum < .8:\n",
    "        tX = np.vstack((tX,tmp))\n",
    "            \n",
    "        tmp = np.zeros((1,numLabel))\n",
    "        curLabel = oneHotDic[species]\n",
    "        tmp[0][curLabel] = 1\n",
    "        tY = np.vstack((tY,tmp))\n",
    "    elif randNum < .9:\n",
    "        vX = np.vstack((vX,tmp))\n",
    "            \n",
    "        tmp = np.zeros((1,numLabel))\n",
    "        curLabel = oneHotDic[species]\n",
    "        tmp[0][curLabel] = 1\n",
    "        vY = np.vstack((vY,tmp))\n",
    "    else:\n",
    "        testX = np.vstack((testX,tmp))\n",
    "            \n",
    "        tmp = np.zeros((1,numLabel))\n",
    "        curLabel = oneHotDic[species]\n",
    "        tmp[0][curLabel] = 1\n",
    "        testY = np.vstack((testY,tmp))"
   ]
  },
  {
   "cell_type": "code",
   "execution_count": 12,
   "metadata": {
    "collapsed": true
   },
   "outputs": [],
   "source": [
    "tX = np.delete(tX, (0), axis=0)\n",
    "tY = np.delete(tY, (0), axis=0)\n",
    "vX = np.delete(vX, (0), axis=0)\n",
    "vY = np.delete(vY, (0), axis=0)\n",
    "testX = np.delete(testX, (0), axis=0)\n",
    "testY = np.delete(testY, (0), axis=0)"
   ]
  },
  {
   "cell_type": "code",
   "execution_count": 15,
   "metadata": {},
   "outputs": [
    {
     "name": "stdout",
     "output_type": "stream",
     "text": [
      "lambda: 1e-06\n",
      "train: 0.58929956061\n",
      "validation: 0.160120845921\n",
      "test: 0.140147523709\n",
      "\n",
      "lambda: 1e-05\n",
      "train: 0.58929956061\n",
      "validation: 0.160120845921\n",
      "test: 0.140147523709\n",
      "\n",
      "lambda: 0.0001\n",
      "train: 0.58917032825\n",
      "validation: 0.160120845921\n",
      "test: 0.140147523709\n",
      "\n",
      "lambda: 0.001\n",
      "train: 0.588524166451\n",
      "validation: 0.161127895267\n",
      "test: 0.139093782929\n",
      "\n",
      "lambda: 0.01\n",
      "train: 0.587619539933\n",
      "validation: 0.159113796576\n",
      "test: 0.140147523709\n",
      "\n",
      "lambda: 0.1\n",
      "train: 0.581416386663\n",
      "validation: 0.159113796576\n",
      "test: 0.147523709168\n",
      "\n",
      "lambda: 1\n",
      "train: 0.550012923236\n",
      "validation: 0.166163141994\n",
      "test: 0.161222339305\n",
      "\n",
      "lambda: 10\n",
      "train: 0.46446110106\n",
      "validation: 0.178247734139\n",
      "test: 0.162276080084\n",
      "\n",
      "lambda: 100\n",
      "train: 0.329284052727\n",
      "validation: 0.188318227593\n",
      "test: 0.163329820864\n",
      "\n",
      "lambda: 1000\n",
      "train: 0.203540966658\n",
      "validation: 0.140986908359\n",
      "test: 0.13593256059\n",
      "\n"
     ]
    }
   ],
   "source": [
    "lambRange = [.000001,.00001,.0001,.001,.01,.1,1,10,100,1000]\n",
    "for curLam in lambRange:\n",
    "    linReg = mL.linear()\n",
    "    wHat = linReg.train(tX,tY,curLam)\n",
    "    \n",
    "    print(\"lambda: \" +str(curLam))\n",
    "    Y_hat = linReg.predict(wHat, tX)\n",
    "    print(\"train: \"+str(mL.accuracy(tY, Y_hat)))\n",
    "\n",
    "    Y_hat = linReg.predict(wHat, vX)\n",
    "    print(\"validation: \"+str(mL.accuracy(vY, Y_hat)))\n",
    "\n",
    "    Y_hat = linReg.predict(wHat, testX)\n",
    "    print(\"test: \"+str(mL.accuracy(testY, Y_hat)))\n",
    "    print(\"\")"
   ]
  },
  {
   "cell_type": "code",
   "execution_count": 14,
   "metadata": {},
   "outputs": [
    {
     "name": "stdout",
     "output_type": "stream",
     "text": [
      "41\n",
      "0.024390243902439025\n"
     ]
    }
   ],
   "source": [
    "print (numLabel)\n",
    "print(1/numLabel)"
   ]
  },
  {
   "cell_type": "code",
   "execution_count": null,
   "metadata": {
    "collapsed": true
   },
   "outputs": [],
   "source": [
    "\n"
   ]
  },
  {
   "cell_type": "code",
   "execution_count": null,
   "metadata": {
    "collapsed": true
   },
   "outputs": [],
   "source": []
  },
  {
   "cell_type": "code",
   "execution_count": null,
   "metadata": {
    "collapsed": true
   },
   "outputs": [],
   "source": []
  },
  {
   "cell_type": "code",
   "execution_count": 16,
   "metadata": {
    "collapsed": true
   },
   "outputs": [],
   "source": [
    "#logistic regression\n",
    "logReg = mL.logistic()"
   ]
  },
  {
   "cell_type": "code",
   "execution_count": 54,
   "metadata": {
    "collapsed": true
   },
   "outputs": [],
   "source": [
    "step_size = 0.01\n",
    "lam = 1\n",
    "eps = 0.00000001\n",
    "maxiter = 1000"
   ]
  },
  {
   "cell_type": "code",
   "execution_count": null,
   "metadata": {},
   "outputs": [
    {
     "name": "stdout",
     "output_type": "stream",
     "text": [
      "Num Label: 41\n",
      "maximum iterations reached\n",
      "0\n",
      "maximum iterations reached\n",
      "maximum iterations reached\n",
      "maximum iterations reached\n",
      "maximum iterations reached\n",
      "maximum iterations reached\n",
      "maximum iterations reached\n",
      "maximum iterations reached\n",
      "maximum iterations reached\n",
      "maximum iterations reached\n",
      "maximum iterations reached\n",
      "10\n",
      "maximum iterations reached\n",
      "maximum iterations reached\n",
      "maximum iterations reached\n",
      "maximum iterations reached\n",
      "maximum iterations reached\n",
      "maximum iterations reached\n",
      "maximum iterations reached\n",
      "maximum iterations reached\n",
      "maximum iterations reached\n",
      "maximum iterations reached\n",
      "20\n",
      "maximum iterations reached\n",
      "maximum iterations reached\n",
      "maximum iterations reached\n",
      "maximum iterations reached\n",
      "maximum iterations reached\n",
      "maximum iterations reached\n",
      "maximum iterations reached\n",
      "maximum iterations reached\n",
      "maximum iterations reached\n",
      "maximum iterations reached\n",
      "30\n"
     ]
    }
   ],
   "source": [
    "outputList = []\n",
    "print(\"Num Label: \" +str(len(tY[0])))\n",
    "for i in range(0,len(tY[0])):\n",
    "    newtY = mL.oneHotToLogLabels(tY,i)\n",
    "    newtestY = mL.oneHotToLogLabels(testY,i)\n",
    "\n",
    "    output = logReg.reg_gradient_desc(tX, newtY, testX, newtestY, step_size, lam, eps, maxiter)\n",
    "    outputList.append(output)\n",
    "    \n",
    "    if i%10 == 0:\n",
    "        print(i)"
   ]
  },
  {
   "cell_type": "code",
   "execution_count": 53,
   "metadata": {},
   "outputs": [
    {
     "name": "stdout",
     "output_type": "stream",
     "text": [
      "0.06293615921426725\n"
     ]
    }
   ],
   "source": [
    "# train accuracy\n",
    "yVAll = np.zeros((tX.shape[0],len(tY[0])))\n",
    "for i in range(0,len(outputList)):\n",
    "    curOutput = outputList[i]\n",
    "    W = curOutput[0] #weights\n",
    "    #print(W)\n",
    "    b = curOutput[1] #offsets\n",
    "\n",
    "    yHat = b + tX.dot(W)\n",
    "    yVAll[:,i] = yHat[:,0]\n",
    "    \n",
    "tmp = np.argmax(yVAll,axis=1)\n",
    "\n",
    "tot = 0.0\n",
    "cor = 0.0\n",
    "for i in range(0,len(tmp)):\n",
    "    if tmp[i] == np.nonzero(tY[i])[0][0]:\n",
    "        cor = cor + 1\n",
    "    tot = tot + 1\n",
    "print(cor/tot)"
   ]
  },
  {
   "cell_type": "code",
   "execution_count": 49,
   "metadata": {},
   "outputs": [
    {
     "name": "stdout",
     "output_type": "stream",
     "text": [
      "0.12084592145015106\n"
     ]
    }
   ],
   "source": [
    "# val accuracy\n",
    "yVAll = np.zeros((vX.shape[0],len(vY[0])))\n",
    "for i in range(0,len(outputList)):\n",
    "    curOutput = outputList[i]\n",
    "    W = curOutput[0] #weights\n",
    "    #print(W)\n",
    "    b = curOutput[1] #offsets\n",
    "\n",
    "    yHat = b + vX.dot(W)\n",
    "    yVAll[:,i] = yHat[:,0]\n",
    "    \n",
    "tmp = np.argmax(yVAll,axis=1)\n",
    "\n",
    "tot = 0.0\n",
    "cor = 0.0\n",
    "for i in range(0,len(tmp)):\n",
    "    if tmp[i] == np.nonzero(vY[i])[0][0]:\n",
    "        cor = cor + 1\n",
    "    tot = tot + 1\n",
    "print(cor/tot)"
   ]
  },
  {
   "cell_type": "code",
   "execution_count": 50,
   "metadata": {},
   "outputs": [
    {
     "name": "stdout",
     "output_type": "stream",
     "text": [
      "0.136986301369863\n"
     ]
    }
   ],
   "source": [
    "# test accuracy\n",
    "yVAll = np.zeros((testX.shape[0],len(testY[0])))\n",
    "for i in range(0,len(outputList)):\n",
    "    curOutput = outputList[i]\n",
    "    W = curOutput[0] #weights\n",
    "    #print(W)\n",
    "    b = curOutput[1] #offsets\n",
    "\n",
    "    yHat = b + testX.dot(W)\n",
    "    yVAll[:,i] = yHat[:,0]\n",
    "    \n",
    "tmp = np.argmax(yVAll,axis=1)\n",
    "#for i in range(0,len(tmp)):\n",
    "#    print(tmp[i])\n",
    "\n",
    "tot = 0.0\n",
    "cor = 0.0\n",
    "for i in range(0,len(tmp)):\n",
    "    if tmp[i] == np.nonzero(testY[i])[0][0]:\n",
    "        cor = cor + 1\n",
    "    tot = tot + 1\n",
    "print(cor/tot)"
   ]
  },
  {
   "cell_type": "code",
   "execution_count": 43,
   "metadata": {},
   "outputs": [],
   "source": [
    "output = outputList[15]\n",
    "W = output[0] #weights\n",
    "b = output[1] #offsets\n",
    "likelihoods = output[2] #series of likelihoods per gradient descent step\n",
    "test_likelihoods = output[3] #series of test data likelihoods per gradient descent steps\n",
    "errs = 1.0 - np.array(output[4]) #series of errors\n",
    "test_errs = 1.0 - np.array(output[5]) #series of test errors"
   ]
  },
  {
   "cell_type": "code",
   "execution_count": 44,
   "metadata": {
    "scrolled": true
   },
   "outputs": [
    {
     "data": {
      "image/png": "[encoded data removed]",
      "text/plain": [
       "<matplotlib.figure.Figure at 0xa2e9048>"
      ]
     },
     "metadata": {},
     "output_type": "display_data"
    }
   ],
   "source": [
    "#likelihoods\n",
    "iters = len(likelihoods)\n",
    "\n",
    "plt.plot(range(iters), likelihoods, label=\"Train likelihood\")\n",
    "plt.plot(range(iters), test_likelihoods, label=\"Test likelihood\")\n",
    "plt.xlabel(\"Iteration number\")\n",
    "plt.ylabel(\"log likelihood\")\n",
    "plt.title(\"$\\lambda$: \" + str(lam))\n",
    "plt.legend()\n",
    "plt.show()"
   ]
  },
  {
   "cell_type": "code",
   "execution_count": 45,
   "metadata": {},
   "outputs": [
    {
     "data": {
      "image/png": "[encoded data removed]",
      "text/plain": [
       "<matplotlib.figure.Figure at 0xa0e6978>"
      ]
     },
     "metadata": {},
     "output_type": "display_data"
    }
   ],
   "source": [
    "#accuracies\n",
    "iters = len(errs)\n",
    "\n",
    "plt.plot(range(iters), errs, label=\"Train error\")\n",
    "plt.plot(range(iters), test_errs, label=\"Test error\")\n",
    "plt.xlabel(\"Iteration number\")\n",
    "plt.ylabel(\"Misclassification error\")\n",
    "plt.title(\"$\\lambda$: \" + str(lam))\n",
    "plt.legend()\n",
    "plt.show()"
   ]
  },
  {
   "cell_type": "markdown",
   "metadata": {},
   "source": [
    "print(len(outputList))\n",
    "#for i in range(0,len(tY[0])):\n",
    "for i in range(20,22):\n",
    "    i = 20\n",
    "    newtY = mL.oneHotToLogLabels(tY,i)\n",
    "    newtestY = mL.oneHotToLogLabels(testY,i)\n",
    "    a= newtY\n",
    "    \n",
    "    i = 33\n",
    "    newtY = mL.oneHotToLogLabels(tY,i)\n",
    "    newtestY = mL.oneHotToLogLabels(testY,i)\n",
    "    b = newtY\n",
    "    break\n",
    "q=np.equal(a,b)\n",
    "print(np.unique(q))"
   ]
  },
  {
   "cell_type": "code",
   "execution_count": null,
   "metadata": {
    "collapsed": true
   },
   "outputs": [],
   "source": []
  },
  {
   "cell_type": "code",
   "execution_count": null,
   "metadata": {
    "collapsed": true
   },
   "outputs": [],
   "source": [
    "#stochastic gradient descent"
   ]
  },
  {
   "cell_type": "code",
   "execution_count": null,
   "metadata": {
    "collapsed": true
   },
   "outputs": [],
   "source": [
    "step_size = 0.01\n",
    "lam = 0.1\n",
    "eps = 0.001\n",
    "maxiter = 100\n",
    "batch_size = 1"
   ]
  },
  {
   "cell_type": "code",
   "execution_count": null,
   "metadata": {
    "collapsed": true
   },
   "outputs": [],
   "source": [
    "output = logReg.stoch_reg_gradient_desc(tX, newtY, testX, newtestY, step_size, lam, eps, maxiter, batch_size)"
   ]
  },
  {
   "cell_type": "code",
   "execution_count": null,
   "metadata": {
    "collapsed": true
   },
   "outputs": [],
   "source": [
    "W = output[0]\n",
    "b = output[1]\n",
    "likelihoods = output[2]\n",
    "test_likelihoods = output[3]\n",
    "errs = 1.0 - np.array(output[4])\n",
    "test_errs = 1.0 - np.array(output[5])"
   ]
  },
  {
   "cell_type": "code",
   "execution_count": null,
   "metadata": {
    "collapsed": true
   },
   "outputs": [],
   "source": [
    "#likelihoods\n",
    "iters = len(likelihoods)\n",
    "\n",
    "plt.plot(range(iters), likelihoods, label=\"Train likelihood\")\n",
    "plt.plot(range(iters), test_likelihoods, label=\"Test likelihood\")\n",
    "plt.xlabel(\"Iteration number\")\n",
    "plt.ylabel(\"log likelihood\")\n",
    "plt.title(\"$\\lambda$: \" + str(lam))\n",
    "plt.legend()\n",
    "plt.show()"
   ]
  },
  {
   "cell_type": "code",
   "execution_count": null,
   "metadata": {
    "collapsed": true
   },
   "outputs": [],
   "source": [
    "#accuracies\n",
    "iters = len(errs)\n",
    "\n",
    "plt.plot(range(iters), errs, label=\"Train error\")\n",
    "plt.plot(range(iters), test_errs, label=\"Test error\")\n",
    "plt.xlabel(\"Iteration number\")\n",
    "plt.ylabel(\"Misclassification error\")\n",
    "plt.title(\"$\\lambda$: \" + str(lam))\n",
    "plt.legend()\n",
    "plt.show()"
   ]
  }
 ],
 "metadata": {
  "kernelspec": {
   "display_name": "Python 3",
   "language": "python",
   "name": "python3"
  },
  "language_info": {
   "codemirror_mode": {
    "name": "ipython",
    "version": 3
   },
   "file_extension": ".py",
   "mimetype": "text/x-python",
   "name": "python",
   "nbconvert_exporter": "python",
   "pygments_lexer": "ipython3",
   "version": "3.6.3"
  }
 },
 "nbformat": 4,
 "nbformat_minor": 2
}
