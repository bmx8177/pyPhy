{
 "cells": [
  {
   "cell_type": "code",
   "execution_count": 4,
   "metadata": {
    "collapsed": true
   },
   "outputs": [],
   "source": [
    "import os"
   ]
  },
  {
   "cell_type": "code",
   "execution_count": 5,
   "metadata": {},
   "outputs": [],
   "source": [
    "# create a dictionary that maps a file name to a species\n",
    "def readFileToDic():\n",
    "    curDic = {}\n",
    "    with open('../../fileNameToSpecies.txt','r') as file1:\n",
    "        line1 = file1.readline().strip()\n",
    "        while line1:\n",
    "            line1_sp = line1.split('\\t')\n",
    "            fileName = line1_sp[0]\n",
    "            species = line1_sp[1]\n",
    "            curDic[fileName] = species\n",
    "            line1=file1.readline().strip()\n",
    "    return(curDic)"
   ]
  }
 ],
 "metadata": {
  "kernelspec": {
   "display_name": "Python 3",
   "language": "python",
   "name": "python3"
  },
  "language_info": {
   "codemirror_mode": {
    "name": "ipython",
    "version": 3
   },
   "file_extension": ".py",
   "mimetype": "text/x-python",
   "name": "python",
   "nbconvert_exporter": "python",
   "pygments_lexer": "ipython3",
   "version": "3.6.3"
  }
 },
 "nbformat": 4,
 "nbformat_minor": 2
}
