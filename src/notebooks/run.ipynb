{
 "cells": [
  {
   "cell_type": "code",
   "execution_count": 1,
   "metadata": {
    "collapsed": true
   },
   "outputs": [],
   "source": [
    "import numpy as np\n",
    "import os\n",
    "import skimage\n",
    "import utils as imgTrans\n",
    "import fileIO as importFile\n",
    "import matplotlib.pyplot as plt\n",
    "import mlUtils as mL"
   ]
  },
  {
   "cell_type": "code",
   "execution_count": 2,
   "metadata": {
    "collapsed": true
   },
   "outputs": [],
   "source": [
    "def oneHotEncoding(speciesDic):\n",
    "    curList = []\n",
    "    for key in speciesDic:\n",
    "        curList.append(speciesDic[key])\n",
    "    speciesSet = set(curList)\n",
    "    \n",
    "    newDic = {}\n",
    "    cnt = 0\n",
    "    for key in speciesSet:\n",
    "        newDic[key] = cnt\n",
    "        cnt = cnt + 1\n",
    "    return(cnt,newDic)"
   ]
  },
  {
   "cell_type": "code",
   "execution_count": 3,
   "metadata": {},
   "outputs": [],
   "source": [
    "allFiles = importFile.readFileToDic()\n",
    "numLabel,oneHotDic = oneHotEncoding(allFiles)\n",
    "\n",
    "numLayers = 10\n",
    "numRows = 32\n",
    "numCols = 32\n",
    "\n",
    "curPath = '../../data/oryzeae/'\n",
    "\n",
    "tX = np.empty((numLayers*numCols*numRows))\n",
    "tY = np.empty((1,numLabel))\n",
    "vX = np.empty((numLayers*numCols*numRows))\n",
    "vY = np.empty((1,numLabel))\n",
    "testX = np.empty((numLayers*numCols*numRows))\n",
    "testY = np.empty((1,numLabel))\n",
    "\n",
    "for file in os.listdir(curPath):\n",
    "    tiffFile = curPath+file\n",
    "    species = allFiles[file]\n",
    "    \n",
    "    im = skimage.io.imread(tiffFile)\n",
    "    im2 = skimage.transform.resize(im,(numLayers,numRows,numCols),mode='reflect')\n",
    "    \n",
    "    tmp = np.ndarray.flatten(im2)\n",
    "    tX = np.vstack((tX,tmp))\n",
    "    \n",
    "    tmp = np.zeros((1,numLabel))\n",
    "    curLabel = oneHotDic[species]\n",
    "    tmp[0][curLabel] = 1\n",
    "    tY = np.vstack((tY,tmp))\n",
    "    \n",
    "    allImg = imgTrans.manyRandImg(im2,20)\n",
    "    for i in allImg:\n",
    "        randNum = np.random.rand((1))\n",
    "        tmp = np.ndarray.flatten(i)\n",
    "        \n",
    "        if randNum < .8:\n",
    "            tX = np.vstack((tX,tmp))\n",
    "            \n",
    "            tmp = np.zeros((1,numLabel))\n",
    "            curLabel = oneHotDic[species]\n",
    "            tmp[0][curLabel] = 1\n",
    "            tY = np.vstack((tY,tmp))\n",
    "        elif randNum < .9:\n",
    "            vX = np.vstack((vX,tmp))\n",
    "            \n",
    "            tmp = np.zeros((1,numLabel))\n",
    "            curLabel = oneHotDic[species]\n",
    "            tmp[0][curLabel] = 1\n",
    "            vY = np.vstack((vY,tmp))\n",
    "        else:\n",
    "            testX = np.vstack((testX,tmp))\n",
    "            \n",
    "            tmp = np.zeros((1,numLabel))\n",
    "            curLabel = oneHotDic[species]\n",
    "            tmp[0][curLabel] = 1\n",
    "            testY = np.vstack((testY,tmp))"
   ]
  },
  {
   "cell_type": "code",
   "execution_count": 4,
   "metadata": {
    "collapsed": true
   },
   "outputs": [],
   "source": [
    "tX = np.delete(tX, (0), axis=0)\n",
    "tY = np.delete(tY, (0), axis=0)\n",
    "vX = np.delete(vX, (0), axis=0)\n",
    "vY = np.delete(vY, (0), axis=0)\n",
    "testX = np.delete(testX, (0), axis=0)\n",
    "testY = np.delete(testY, (0), axis=0)"
   ]
  },
  {
   "cell_type": "code",
   "execution_count": 5,
   "metadata": {},
   "outputs": [],
   "source": [
    "wHat = mL.train(tX,tY,.1)"
   ]
  },
  {
   "cell_type": "code",
   "execution_count": 6,
   "metadata": {},
   "outputs": [
    {
     "name": "stdout",
     "output_type": "stream",
     "text": [
      "train: 0.999038461538\n",
      "validation: 0.779661016949\n",
      "test: 0.756097560976\n"
     ]
    }
   ],
   "source": [
    "Y_hat = mL.predict(wHat, tX)\n",
    "print(\"train: \"+str(mL.accuracy(tY, Y_hat)))\n",
    "\n",
    "Y_hat = mL.predict(wHat, vX)\n",
    "print(\"validation: \"+str(mL.accuracy(vY, Y_hat)))\n",
    "\n",
    "Y_hat = mL.predict(wHat, testX)\n",
    "print(\"test: \"+str(mL.accuracy(testY, Y_hat)))"
   ]
  }
 ],
 "metadata": {
  "kernelspec": {
   "display_name": "Python 3",
   "language": "python",
   "name": "python3"
  },
  "language_info": {
   "codemirror_mode": {
    "name": "ipython",
    "version": 3
   },
   "file_extension": ".py",
   "mimetype": "text/x-python",
   "name": "python",
   "nbconvert_exporter": "python",
   "pygments_lexer": "ipython3",
   "version": "3.6.3"
  }
 },
 "nbformat": 4,
 "nbformat_minor": 2
}
